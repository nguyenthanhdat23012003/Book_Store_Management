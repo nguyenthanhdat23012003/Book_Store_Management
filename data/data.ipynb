{
 "cells": [
  {
   "cell_type": "code",
   "execution_count": 9,
   "metadata": {},
   "outputs": [],
   "source": [
    "import requests\n",
    "import json\n",
    "\n",
    "# URL to fetch data from\n",
    "url = \"https://freetestapi.com/api/v1/books\"\n",
    "\n",
    "# Send a GET request to the URL\n",
    "response = requests.get(url)\n",
    "\n",
    "# Convert the response to JSON\n",
    "data = response.json()\n",
    "\n",
    "# Open or create data.json then write the data\n",
    "with open('book_test.json', 'w') as f:\n",
    "    json.dump(data, f)"
   ]
  },
  {
   "cell_type": "markdown",
   "metadata": {},
   "source": [
    "Data for books"
   ]
  },
  {
   "cell_type": "code",
   "execution_count": 2,
   "metadata": {},
   "outputs": [],
   "source": [
    "import os\n",
    "import glob\n",
    "\n",
    "# Open the 'book_imgs' folder\n",
    "os.chdir('/home/admin88/Desktop/workspace/ISD.ICT.20232.22/data/book_imgs')\n",
    "\n",
    "# Filter all files\n",
    "all_files = glob.glob('*')\n",
    "\n",
    "# Filter all images\n",
    "images = glob.glob('*.webp') + glob.glob('*.jpg') + glob.glob('*.jpeg') + glob.glob('*.png')\n",
    "\n",
    "# Create a set of image file names\n",
    "image_files = set(images)\n",
    "\n",
    "# Iterate over all files\n",
    "for file in all_files:\n",
    "    # If the file is not an image, delete it\n",
    "    if file not in image_files:\n",
    "        os.remove(file)\n",
    "        \n",
    "# Create a set to store the first 11 characters of image names\n",
    "image_names = set()\n",
    "\n",
    "# Iterate over all images\n",
    "for image in images:\n",
    "    # If the first 11 characters of the image name are already in the set, delete the image\n",
    "    if image[:11] in image_names:\n",
    "        os.remove(image)\n",
    "    else:\n",
    "        # Otherwise, add the first 11 characters of the image name to the set\n",
    "        image_names.add(image[:11])"
   ]
  },
  {
   "cell_type": "markdown",
   "metadata": {},
   "source": [
    "Data for CDs"
   ]
  },
  {
   "cell_type": "code",
   "execution_count": 4,
   "metadata": {},
   "outputs": [],
   "source": [
    "import os\n",
    "import glob\n",
    "\n",
    "# Open the 'cd_imgs' folder\n",
    "os.chdir('/home/admin88/Desktop/workspace/ISD.ICT.20232.22/data/CD_imgs')\n",
    "\n",
    "# Filter all files\n",
    "all_files = glob.glob('*')\n",
    "\n",
    "# Filter all images\n",
    "images = glob.glob('*.webp') + glob.glob('*.jpg') + glob.glob('*.jpeg') + glob.glob('*.png')\n",
    "\n",
    "# Create a set of image file names\n",
    "image_files = set(images)\n",
    "\n",
    "# Iterate over all files\n",
    "for file in all_files:\n",
    "    # If the file is not an image, delete it\n",
    "    if file not in image_files:\n",
    "        os.remove(file)\n",
    "        \n",
    "# Create a set to store the first 11 characters of image names\n",
    "image_names = set()\n",
    "\n",
    "# Iterate over all images\n",
    "for image in images:\n",
    "    # If the first 8 characters of the image name are already in the set, delete the image\n",
    "    if image[:8] in image_names:\n",
    "        os.remove(image)\n",
    "    else:\n",
    "        # Otherwise, add the first 8 characters of the image name to the set\n",
    "        image_names.add(image[:8])"
   ]
  },
  {
   "cell_type": "code",
   "execution_count": 5,
   "metadata": {},
   "outputs": [],
   "source": [
    "import os\n",
    "import glob \n",
    "\n",
    "# Open the 'dvd_imgs' folder\n",
    "os.chdir('/home/admin88/Desktop/workspace/ISD.ICT.20232.22/data/dvd_imgs')\n",
    "\n",
    "# Filter all files\n",
    "all_files = glob.glob('*')\n",
    "\n",
    "# Filter all images\n",
    "images = glob.glob('*.webp') + glob.glob('*.jpg') + glob.glob('*.jpeg') + glob.glob('*.png')\n",
    "\n",
    "# Create a set of image file names\n",
    "image_files = set(images)\n",
    "\n",
    "# Iterate over all files\n",
    "for file in all_files:\n",
    "    # If the file is not an image, delete it\n",
    "    if file not in image_files:\n",
    "        os.remove(file)\n",
    "        \n",
    "# Create a set to store the first 11 characters of image names\n",
    "image_names = set()\n",
    "\n",
    "# Iterate over all images\n",
    "for image in images:\n",
    "    # If the first 8 characters of the image name are already in the set, delete the image\n",
    "    if image[:8] in image_names:\n",
    "        os.remove(image)\n",
    "    else:\n",
    "        # Otherwise, add the first 8 characters of the image name to the set\n",
    "        image_names.add(image[:8])"
   ]
  }
 ],
 "metadata": {
  "kernelspec": {
   "display_name": "myenv",
   "language": "python",
   "name": "python3"
  },
  "language_info": {
   "codemirror_mode": {
    "name": "ipython",
    "version": 3
   },
   "file_extension": ".py",
   "mimetype": "text/x-python",
   "name": "python",
   "nbconvert_exporter": "python",
   "pygments_lexer": "ipython3",
   "version": "3.10.14"
  }
 },
 "nbformat": 4,
 "nbformat_minor": 2
}
